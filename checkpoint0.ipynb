{
 "cells": [
  {
   "cell_type": "markdown",
   "id": "397134b9",
   "metadata": {
    "colab_type": "text",
    "id": "0a8IYAJUshu1"
   },
   "source": [
    "# Checkpoint 0 "
   ]
  },
  {
   "cell_type": "markdown",
   "id": "5f55b4e3",
   "metadata": {},
   "source": [
    "These exercises are a mix of Python and Pandas practice. Most should be no more than a few lines of code! "
   ]
  },
  {
   "cell_type": "code",
   "execution_count": 95,
   "id": "b12f2432",
   "metadata": {
    "colab": {},
    "colab_type": "code",
    "id": "Jo6wuTgkshu1"
   },
   "outputs": [],
   "source": [
    "# here is a Python list:\n",
    "\n",
    "a = [1, 2, 3, 4, 5, 6]"
   ]
  },
  {
   "cell_type": "code",
   "execution_count": 97,
   "id": "779d96b1",
   "metadata": {},
   "outputs": [
    {
     "name": "stdout",
     "output_type": "stream",
     "text": [
      "[4, 5, 6]\n"
     ]
    }
   ],
   "source": [
    "# get a list containing the last 3 elements of a\n",
    "# Yes, you can just type out [4, 5, 6] but we really want to see you demonstrate you know how to use list slicing in Python\n",
    "\n",
    "\n",
    "last_three_elements = a[-3:]\n",
    "print(last_three_elements)"
   ]
  },
  {
   "cell_type": "code",
   "execution_count": 99,
   "id": "b6a54def",
   "metadata": {},
   "outputs": [
    {
     "name": "stdout",
     "output_type": "stream",
     "text": [
      "[1, 2, 3, 4, 5, 6, 7, 8, 9, 10, 11, 12, 13, 14, 15, 16, 17, 18, 19, 20]\n"
     ]
    }
   ],
   "source": [
    "# create a list of numbers from 1 to 20\n",
    "\n",
    "\n",
    "numbers = list(range(1, 21))\n",
    "print(numbers)"
   ]
  },
  {
   "cell_type": "code",
   "execution_count": 101,
   "id": "487873ac",
   "metadata": {},
   "outputs": [
    {
     "name": "stdout",
     "output_type": "stream",
     "text": [
      "[2, 4, 6, 8, 10, 12, 14, 16, 18, 20, 22, 24, 26, 28, 30, 32, 34, 36, 38, 40, 42, 44, 46, 48, 50, 52, 54, 56, 58, 60, 62, 64, 66, 68, 70, 72, 74, 76, 78, 80, 82, 84, 86, 88, 90, 92, 94, 96, 98, 100]\n"
     ]
    }
   ],
   "source": [
    "# now get a list with only the even numbers between 1 and 100\n",
    "# you may or may not make use of the list you made in the last cell\n",
    "\n",
    "even_numbers = list(range(2, 101, 2))\n",
    "print(even_numbers)"
   ]
  },
  {
   "cell_type": "code",
   "execution_count": 103,
   "id": "3d4bb5dd",
   "metadata": {},
   "outputs": [
    {
     "name": "stdout",
     "output_type": "stream",
     "text": [
      "5.0\n"
     ]
    }
   ],
   "source": [
    "# write a function that takes two numbers as arguments\n",
    "# and returns the first number divided by the second\n",
    "\n",
    "def divide_numbers(num1, num2):\n",
    "    return num1 / num2\n",
    "\n",
    "# Example usage:\n",
    "result = divide_numbers(10, 2)\n",
    "print(result)"
   ]
  },
  {
   "cell_type": "code",
   "execution_count": 105,
   "id": "f55df04e",
   "metadata": {},
   "outputs": [
    {
     "name": "stdout",
     "output_type": "stream",
     "text": [
      "1\n",
      "2\n",
      "fizz\n",
      "4\n",
      "buzz\n",
      "fizz\n",
      "7\n",
      "8\n",
      "fizz\n",
      "buzz\n",
      "11\n",
      "fizz\n",
      "13\n",
      "14\n",
      "fizzbuzz\n",
      "16\n",
      "17\n",
      "fizz\n",
      "19\n",
      "buzz\n",
      "fizz\n",
      "22\n",
      "23\n",
      "fizz\n",
      "buzz\n",
      "26\n",
      "fizz\n",
      "28\n",
      "29\n",
      "fizzbuzz\n"
     ]
    }
   ],
   "source": [
    "# fizzbuzz\n",
    "# you will need to use both iteration and control flow \n",
    "# go through all numbers from 1 to 30 in order\n",
    "# if the number is a multiple of 3, print fizz\n",
    "# if the number is a multiple of 5, print buzz\n",
    "# if the number is a multiple of 3 and 5, print fizzbuzz and NOTHING ELSE\n",
    "# if the number is neither a multiple of 3 nor a multiple of 5, print the number\n",
    "\n",
    "for num in range(1, 31):\n",
    "    if num % 3 == 0 and num % 5 == 0:\n",
    "        print(\"fizzbuzz\")\n",
    "    elif num % 3 == 0:\n",
    "        print(\"fizz\")\n",
    "    elif num % 5 == 0:\n",
    "        print(\"buzz\")\n",
    "    else:\n",
    "        print(num)"
   ]
  },
  {
   "cell_type": "code",
   "execution_count": 107,
   "id": "78aace0b",
   "metadata": {},
   "outputs": [
    {
     "name": "stdout",
     "output_type": "stream",
     "text": [
      "{'Gyro': 9, 'Burger': 9, 'Greek Salad': 8, 'Philly Steak': 10}\n"
     ]
    }
   ],
   "source": [
    "# create a dictionary that reflects the following menu pricing (taken from Ahmo's)\n",
    "# Gyro: $9 \n",
    "# Burger: $9\n",
    "# Greek Salad: $8\n",
    "# Philly Steak: $10\n",
    "\n",
    "menu = {\n",
    "    \"Gyro\": 9,\n",
    "    \"Burger\": 9,\n",
    "    \"Greek Salad\": 8,\n",
    "    \"Philly Steak\": 10\n",
    "}\n",
    "\n",
    "# Example usage:\n",
    "print(menu)"
   ]
  },
  {
   "cell_type": "code",
   "execution_count": 109,
   "id": "d5c0f3d7",
   "metadata": {
    "colab": {},
    "colab_type": "code",
    "id": "WzCQ5HOJshvA"
   },
   "outputs": [],
   "source": [
    "# load in the \"starbucks.csv\" dataset\n",
    "# refer to how we read the cereal.csv dataset in the tutorial\n",
    "\n",
    "import pandas as pd\n",
    "\n",
    "df = pd.read_csv(\"../data/starbucks.csv\")"
   ]
  },
  {
   "cell_type": "code",
   "execution_count": 111,
   "id": "ac0f0c12",
   "metadata": {},
   "outputs": [
    {
     "name": "stdout",
     "output_type": "stream",
     "text": [
      "              beverage_category  \\\n",
      "81    signature espresso drinks   \n",
      "83    signature espresso drinks   \n",
      "84    signature espresso drinks   \n",
      "85    signature espresso drinks   \n",
      "128             tazo tea drinks   \n",
      "214  frappuccino blended coffee   \n",
      "215  frappuccino blended coffee   \n",
      "216  frappuccino blended coffee   \n",
      "\n",
      "                                          beverage      beverage_prep  \\\n",
      "81   white chocolate mocha (without whipped cream)            2% Milk   \n",
      "83   white chocolate mocha (without whipped cream)  Venti Nonfat Milk   \n",
      "84   white chocolate mocha (without whipped cream)            2% Milk   \n",
      "85   white chocolate mocha (without whipped cream)            Soymilk   \n",
      "128                           tazo green tea latte            2% Milk   \n",
      "214              java chip (without whipped cream)  Venti Nonfat Milk   \n",
      "215              java chip (without whipped cream)         Whole Milk   \n",
      "216              java chip (without whipped cream)            Soymilk   \n",
      "\n",
      "     calories  total fat  trans fat  saturated fat  sodium  \\\n",
      "81        400       11.0        7.0            0.2      25   \n",
      "83        450        7.0        6.0            0.0      10   \n",
      "84        510       15.0        9.0            0.2      35   \n",
      "85        460       13.0        6.0            0.0       5   \n",
      "128       450       10.0        5.0            0.3      40   \n",
      "214       420        5.0        4.0            0.0       5   \n",
      "215       460       10.0        7.0            0.2      15   \n",
      "216       430        8.0        4.5            0.0       0   \n",
      "\n",
      "     total carbohydrates  cholesterol  dietary fibre  sugars  protein  \\\n",
      "81                   250           61              0      58     15.0   \n",
      "83                   310           78              0      74     19.0   \n",
      "84                   330           77              0      74     19.0   \n",
      "85                   290           70              1      64     16.0   \n",
      "128                  230           72              2      71     17.0   \n",
      "214                  340           90              2      84      7.0   \n",
      "215                  340           90              2      84      7.0   \n",
      "216                  330           88              3      80      6.0   \n",
      "\n",
      "     vitamin a  vitamin c  calcium  iron  caffeine  \n",
      "81          15          2       45   0.0     150.0  \n",
      "83          25          2       60   2.0     150.0  \n",
      "84          20          4       60   2.0     150.0  \n",
      "85          15          2       60  20.0     150.0  \n",
      "128         25         20       50   6.0     110.0  \n",
      "214         10          0       20  35.0     145.0  \n",
      "215          6          0       15  35.0     145.0  \n",
      "216          6          0       20  40.0     145.0  \n"
     ]
    }
   ],
   "source": [
    "# select all rows with more than and including 400 calories\n",
    "\n",
    "high_calorie = df[df['calories'] >= 400]\n",
    "\n",
    "print(high_calorie)"
   ]
  },
  {
   "cell_type": "code",
   "execution_count": 63,
   "id": "ee8f8241",
   "metadata": {},
   "outputs": [
    {
     "name": "stdout",
     "output_type": "stream",
     "text": [
      "            beverage_category  \\\n",
      "0     classic espresso drinks   \n",
      "1     classic espresso drinks   \n",
      "2     classic espresso drinks   \n",
      "3     classic espresso drinks   \n",
      "4   signature espresso drinks   \n",
      "5   signature espresso drinks   \n",
      "6   signature espresso drinks   \n",
      "7   signature espresso drinks   \n",
      "8   signature espresso drinks   \n",
      "9   signature espresso drinks   \n",
      "10  signature espresso drinks   \n",
      "11            tazo tea drinks   \n",
      "12            tazo tea drinks   \n",
      "13            tazo tea drinks   \n",
      "14            tazo tea drinks   \n",
      "15            tazo tea drinks   \n",
      "16            tazo tea drinks   \n",
      "17            tazo tea drinks   \n",
      "18            tazo tea drinks   \n",
      "19      shaken iced beverages   \n",
      "20      shaken iced beverages   \n",
      "21      shaken iced beverages   \n",
      "22                  smoothies   \n",
      "23                  smoothies   \n",
      "24                  smoothies   \n",
      "25                  smoothies   \n",
      "26                  smoothies   \n",
      "27                  smoothies   \n",
      "28                  smoothies   \n",
      "29   frappuccino blended crme   \n",
      "30   frappuccino blended crme   \n",
      "31   frappuccino blended crme   \n",
      "32   frappuccino blended crme   \n",
      "33   frappuccino blended crme   \n",
      "34   frappuccino blended crme   \n",
      "\n",
      "                                             beverage       beverage_prep  \\\n",
      "0                                          caff latte             2% Milk   \n",
      "1                                          caff latte             2% Milk   \n",
      "2            vanilla latte (or other flavoured latte)             2% Milk   \n",
      "3            vanilla latte (or other flavoured latte)             2% Milk   \n",
      "4                                   caramel macchiato             2% Milk   \n",
      "5                                   caramel macchiato             2% Milk   \n",
      "6       white chocolate mocha (without whipped cream)             2% Milk   \n",
      "7       white chocolate mocha (without whipped cream)    Tall Nonfat Milk   \n",
      "8       white chocolate mocha (without whipped cream)             2% Milk   \n",
      "9       white chocolate mocha (without whipped cream)             2% Milk   \n",
      "10      white chocolate mocha (without whipped cream)             2% Milk   \n",
      "11                               tazo green tea latte   Short Nonfat Milk   \n",
      "12                               tazo green tea latte             2% Milk   \n",
      "13                               tazo green tea latte    Tall Nonfat Milk   \n",
      "14                               tazo green tea latte             2% Milk   \n",
      "15                               tazo green tea latte  Grande Nonfat Milk   \n",
      "16                               tazo green tea latte             2% Milk   \n",
      "17                               tazo green tea latte   Venti Nonfat Milk   \n",
      "18                               tazo green tea latte             2% Milk   \n",
      "19  shaken iced tazo tea lemonade (with classic sy...                Tall   \n",
      "20  shaken iced tazo tea lemonade (with classic sy...              Grande   \n",
      "21  shaken iced tazo tea lemonade (with classic sy...               Venti   \n",
      "22                          banana chocolate smoothie  Grande Nonfat Milk   \n",
      "23                       orange mango banana smoothie  Grande Nonfat Milk   \n",
      "24                       orange mango banana smoothie             2% Milk   \n",
      "25                       orange mango banana smoothie             Soymilk   \n",
      "26                         strawberry banana smoothie  Grande Nonfat Milk   \n",
      "27                         strawberry banana smoothie             2% Milk   \n",
      "28                         strawberry banana smoothie             Soymilk   \n",
      "29         strawberries  crme (without whipped cream)    Tall Nonfat Milk   \n",
      "30         strawberries  crme (without whipped cream)          Whole Milk   \n",
      "31         strawberries  crme (without whipped cream)  Grande Nonfat Milk   \n",
      "32         strawberries  crme (without whipped cream)          Whole Milk   \n",
      "33         strawberries  crme (without whipped cream)   Venti Nonfat Milk   \n",
      "34         strawberries  crme (without whipped cream)          Whole Milk   \n",
      "\n",
      "    calories  total fat  trans fat  saturated fat  sodium  \\\n",
      "0        190        7.0        3.5            0.2      30   \n",
      "1        240        9.0        4.5            0.3      35   \n",
      "2        250        6.0        3.5            0.2      25   \n",
      "3        320        9.0        4.5            0.3      35   \n",
      "4        240        7.0        3.5            0.2      25   \n",
      "5        300        8.0        4.5            0.2      35   \n",
      "6        200        6.0        3.5            0.1      15   \n",
      "7        270        4.5        3.5            0.0       5   \n",
      "8        310        9.0        6.0            0.1      20   \n",
      "9        400       11.0        7.0            0.2      25   \n",
      "10       510       15.0        9.0            0.2      35   \n",
      "11       130        0.2        0.1            0.0       5   \n",
      "12       170        4.0        2.0            0.1      15   \n",
      "13       210        0.4        0.2            0.0       5   \n",
      "14       260        6.0        3.0            0.2      25   \n",
      "15       290        0.5        0.2            0.0      10   \n",
      "16       350        8.0        4.0            0.2      30   \n",
      "17       370        0.5        0.3            0.0      10   \n",
      "18       450       10.0        5.0            0.3      40   \n",
      "19       100        0.0        0.0            0.0       0   \n",
      "20       130        0.0        0.0            0.0       0   \n",
      "21       190        0.0        0.0            0.0       0   \n",
      "22       280        2.5        1.5            0.0       5   \n",
      "23       260        1.0        0.3            0.0       5   \n",
      "24       270        1.5        0.5            0.0       5   \n",
      "25       270        1.5        0.4            0.0       5   \n",
      "26       290        1.0        0.3            0.0       5   \n",
      "27       290        2.0        1.0            0.0       5   \n",
      "28       290        2.0        0.4            0.0       5   \n",
      "29       170        0.1        0.1            0.0       0   \n",
      "30       190        3.0        1.5            0.1      10   \n",
      "31       230        0.2        0.1            0.0       0   \n",
      "32       260        4.0        2.0            0.1      10   \n",
      "33       310        0.2        0.1            0.0       5   \n",
      "34       350        6.0        3.0            0.2      15   \n",
      "\n",
      "    total carbohydrates  cholesterol  dietary fibre  sugars  protein  \\\n",
      "0                   170           19              0      17     12.0   \n",
      "1                   220           24              0      22     16.0   \n",
      "2                   150           37              0      35     12.0   \n",
      "3                   200           46              0      44     15.0   \n",
      "4                   150           34              0      32     10.0   \n",
      "5                   180           43              0      40     13.0   \n",
      "6                   125           31              0      29      7.0   \n",
      "7                   190           47              0      45     12.0   \n",
      "8                   200           46              0      44     11.0   \n",
      "9                   250           61              0      58     15.0   \n",
      "10                  330           77              0      74     19.0   \n",
      "11                   85           26              0      25      7.0   \n",
      "12                   95           26              0      25      7.0   \n",
      "13                  125           42              1      41     11.0   \n",
      "14                  140           41              1      40     10.0   \n",
      "15                  160           57              1      56     14.0   \n",
      "16                  180           57              1      55     14.0   \n",
      "17                  200           73              2      71     18.0   \n",
      "18                  230           72              2      71     17.0   \n",
      "19                    0           25              0      24      0.1   \n",
      "20                    0           33              0      33      0.1   \n",
      "21                    0           49              0      49      0.1   \n",
      "22                  150           53              7      34     20.0   \n",
      "23                  120           54              6      37     16.0   \n",
      "24                  125           53              6      37     16.0   \n",
      "25                  120           53              6      36     15.0   \n",
      "26                  125           58              7      41     16.0   \n",
      "27                  125           58              7      41     16.0   \n",
      "28                  120           58              8      40     16.0   \n",
      "29                  140           39              0      38      3.0   \n",
      "30                  140           38              0      37      3.0   \n",
      "31                  190           53              0      52      4.0   \n",
      "32                  190           53              0      52      4.0   \n",
      "33                  260           70              0      69      6.0   \n",
      "34                  260           70              0      68      6.0   \n",
      "\n",
      "    vitamin a  vitamin c  calcium  iron    caffeine  \n",
      "0          20          2       40   0.0  150.000000  \n",
      "1          25          2       50   0.0  150.000000  \n",
      "2          20          2       35   0.0  150.000000  \n",
      "3          25          2       45   0.0  150.000000  \n",
      "4          15          2       30   0.0  150.000000  \n",
      "5          20          2       40   0.0  150.000000  \n",
      "6           8          2       25   0.0   75.000000  \n",
      "7          15          2       35   0.0   75.000000  \n",
      "8          15          2       35   0.0   75.000000  \n",
      "9          15          2       45   0.0  150.000000  \n",
      "10         20          4       60   2.0  150.000000  \n",
      "11         10          4       20   2.0   25.000000  \n",
      "12         10          6       20   2.0   25.000000  \n",
      "13         20         10       35   4.0   55.000000  \n",
      "14         15         10       35   4.0   55.000000  \n",
      "15         25         15       45   4.0   80.000000  \n",
      "16         20         15       45   4.0   80.000000  \n",
      "17         30         20       60   6.0  110.000000  \n",
      "18         25         20       50   6.0  110.000000  \n",
      "19          0         10        0   0.0   89.520548  \n",
      "20          0         15        0   0.0   89.520548  \n",
      "21          0         20        0   0.0   89.520548  \n",
      "22         10         15       20   0.0   89.520548  \n",
      "23         50         80       10  30.0   15.000000  \n",
      "24         50         80       10   6.0    0.000000  \n",
      "25         50         80       10   6.0    0.000000  \n",
      "26          4        100       10   8.0    0.000000  \n",
      "27          4        100       10   8.0    0.000000  \n",
      "28          2        100       10   8.0    0.000000  \n",
      "29          6          6       10   2.0    0.000000  \n",
      "30          4          6       10   2.0    0.000000  \n",
      "31          8          6       15   4.0    0.000000  \n",
      "32          6          6       15   4.0    0.000000  \n",
      "33         10          8       20   4.0    0.000000  \n",
      "34          8          8       20   4.0    0.000000  \n"
     ]
    }
   ],
   "source": [
    "# select all rows whose vitamin c content is higher than the iron content\n",
    "\n",
    "df = df.dropna(subset=['vitamin c', 'iron'])\n",
    "higher_vitamin_c = df[df['vitamin c'] > df['iron']]\n",
    "\n",
    "higher_vitamin_c = higher_vitamin_c.reset_index(drop=True)\n",
    "\n",
    "# Display the result\n",
    "print(higher_vitamin_c)"
   ]
  },
  {
   "cell_type": "code",
   "execution_count": 87,
   "id": "d4de48bb",
   "metadata": {},
   "outputs": [],
   "source": [
    "# create a new column containing the caffeine per calories of each drink\n",
    "\n",
    "df['Caffeine_per_Calorie'] = df['caffeine'] / df['calories']"
   ]
  },
  {
   "cell_type": "code",
   "execution_count": 89,
   "id": "c17bdf6b",
   "metadata": {
    "colab": {},
    "colab_type": "code",
    "id": "rIoxaSxHshvB"
   },
   "outputs": [
    {
     "name": "stdout",
     "output_type": "stream",
     "text": [
      "The average calorie content across all items is 193.87 calories.\n"
     ]
    }
   ],
   "source": [
    "# what is the average calorie across all items?\n",
    "\n",
    "average_calories = df['calories'].mean()\n",
    "\n",
    "print(f\"The average calorie content across all items is {average_calories:.2f} calories.\")"
   ]
  },
  {
   "cell_type": "code",
   "execution_count": 91,
   "id": "8f638a01",
   "metadata": {
    "colab": {},
    "colab_type": "code",
    "id": "ABX7i49FshvD"
   },
   "outputs": [
    {
     "name": "stdout",
     "output_type": "stream",
     "text": [
      "There are 9 different beverage categories.\n"
     ]
    }
   ],
   "source": [
    "# how many different categories of beverages are there?\n",
    "\n",
    "num_categories = df['beverage_category'].nunique()\n",
    "\n",
    "print(f\"There are {num_categories} different beverage categories.\")"
   ]
  },
  {
   "cell_type": "code",
   "execution_count": 93,
   "id": "1b490a1f",
   "metadata": {
    "colab": {},
    "colab_type": "code",
    "id": "P9QatZAzshvE"
   },
   "outputs": [
    {
     "name": "stdout",
     "output_type": "stream",
     "text": [
      "\n",
      "Average Calories per Beverage Category:\n",
      "                  Beverage Category  Average Calories\n",
      "0           classic espresso drinks        140.172414\n",
      "1                            coffee          4.250000\n",
      "2        frappuccino blended coffee        276.944444\n",
      "3          frappuccino blended crme        233.076923\n",
      "4  frappuccino light blended coffee        162.500000\n",
      "5             shaken iced beverages        114.444444\n",
      "6         signature espresso drinks        250.000000\n",
      "7                         smoothies        282.222222\n",
      "8                   tazo tea drinks        177.307692\n"
     ]
    }
   ],
   "source": [
    "# what is the average # calories for each beverage category?\n",
    "\n",
    "avg_calories_by_category = df.groupby('beverage_category')['calories'].mean().reset_index()\n",
    "\n",
    "avg_calories_by_category.columns = ['Beverage Category', 'Average Calories']\n",
    "\n",
    "print(\"\\nAverage Calories per Beverage Category:\")\n",
    "print(avg_calories_by_category)"
   ]
  },
  {
   "cell_type": "code",
   "execution_count": null,
   "id": "f34507a7-4053-429d-b8dd-5cf9e3d2bd50",
   "metadata": {},
   "outputs": [],
   "source": []
  }
 ],
 "metadata": {
  "kernelspec": {
   "display_name": "Python 3 (ipykernel)",
   "language": "python",
   "name": "python3"
  },
  "language_info": {
   "codemirror_mode": {
    "name": "ipython",
    "version": 3
   },
   "file_extension": ".py",
   "mimetype": "text/x-python",
   "name": "python",
   "nbconvert_exporter": "python",
   "pygments_lexer": "ipython3",
   "version": "3.12.4"
  },
  "vscode": {
   "interpreter": {
    "hash": "6cf8df3ff69f85f626faf55c10df6fe2cb9d1236b4dc73844ee4dc01369c2c99"
   }
  }
 },
 "nbformat": 4,
 "nbformat_minor": 5
}
